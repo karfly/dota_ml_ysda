{
 "cells": [
  {
   "cell_type": "code",
   "execution_count": 1,
   "metadata": {
    "collapsed": false,
    "deletable": true,
    "editable": true
   },
   "outputs": [],
   "source": [
    "%load_ext autoreload\n",
    "%autoreload 2"
   ]
  },
  {
   "cell_type": "code",
   "execution_count": 2,
   "metadata": {
    "collapsed": false,
    "deletable": true,
    "editable": true
   },
   "outputs": [
    {
     "name": "stderr",
     "output_type": "stream",
     "text": [
      "/Users/karfly/tf_env/lib/python3.6/site-packages/sklearn/cross_validation.py:44: DeprecationWarning: This module was deprecated in version 0.18 in favor of the model_selection module into which all the refactored classes and functions are moved. Also note that the interface of the new CV iterators are different from that of this module. This module will be removed in 0.20.\n",
      "  \"This module will be removed in 0.20.\", DeprecationWarning)\n",
      "/Users/karfly/tf_env/lib/python3.6/site-packages/sklearn/grid_search.py:43: DeprecationWarning: This module was deprecated in version 0.18 in favor of the model_selection module into which all the refactored classes and functions are moved. This module will be removed in 0.20.\n",
      "  DeprecationWarning)\n"
     ]
    }
   ],
   "source": [
    "import os\n",
    "\n",
    "import numpy as np\n",
    "import pandas as pd\n",
    "\n",
    "%matplotlib inline\n",
    "from matplotlib import pylab as plt\n",
    "import seaborn as sns\n",
    "\n",
    "from sklearn.ensemble import RandomForestClassifier\n",
    "from sklearn.cross_validation import cross_val_score, KFold\n",
    "from sklearn.grid_search import GridSearchCV, RandomizedSearchCV"
   ]
  },
  {
   "cell_type": "code",
   "execution_count": 3,
   "metadata": {
    "collapsed": true,
    "deletable": true,
    "editable": true
   },
   "outputs": [],
   "source": [
    "import dota_ml_utils"
   ]
  },
  {
   "cell_type": "code",
   "execution_count": null,
   "metadata": {
    "collapsed": true
   },
   "outputs": [],
   "source": [
    "data_url = 'https://dl.dropboxusercontent.com/u/67618204/dota_ml/data.zip'\n",
    "if not os.path.exists('data/'):\n",
    "    !wget $data_url -q --show-progress\n",
    "    !tar -xvf data.zip\n",
    "else:\n",
    "    print('Data alredy exists')"
   ]
  },
  {
   "cell_type": "code",
   "execution_count": null,
   "metadata": {
    "collapsed": false,
    "deletable": true,
    "editable": true
   },
   "outputs": [
    {
     "name": "stdout",
     "output_type": "stream",
     "text": [
      "Adding 'last_gold_by_player'...\n",
      "Adding 'last_gold_by_team'...\n",
      "Adding 'gold_speed_by_player'...\n",
      "Adding 'gold_speed_by_team'...\n",
      "Adding 'max_gold_by_player'...\n",
      "Adding 'max_gold_by_team'...\n",
      "Adding 'last_lh_by_player'...\n"
     ]
    }
   ],
   "source": [
    "data_params = {\n",
    "    'last_gold_by_player': True, 'last_gold_by_team': True,\n",
    "    'gold_speed_by_player': True, 'gold_speed_by_team': True,\n",
    "    'max_gold_by_player': True, 'max_gold_by_team': True,\n",
    "    \n",
    "    'last_lh_by_player': True, 'last_lh_by_team': True,\n",
    "    'lh_speed_by_player': True, 'lh_speed_by_team': True,\n",
    "    'max_lh_by_player': True, 'max_lh_by_team': True,\n",
    "}\n",
    "\n",
    "train_df, test_df = dota_ml_utils.transform_data('data/', **data_params)"
   ]
  },
  {
   "cell_type": "code",
   "execution_count": null,
   "metadata": {
    "collapsed": false,
    "deletable": true,
    "editable": true,
    "scrolled": true
   },
   "outputs": [],
   "source": [
    "X_train = train_df.drop('radiant_won', axis=1)\n",
    "y_train = train_df['radiant_won']"
   ]
  },
  {
   "cell_type": "code",
   "execution_count": null,
   "metadata": {
    "collapsed": false,
    "deletable": true,
    "editable": true
   },
   "outputs": [],
   "source": [
    "rfc_model_param_grid = {\n",
    "    'n_estimators': [100, 1000, 5000],\n",
    "    'max_depth': [None, 2, 4, 6, 10],\n",
    "    'max_features': [None, 'sqrt', 'log2'],\n",
    "    'min_samples_leaf': [1, 2, 5, 100],\n",
    "    'criterion': ['gini', 'entropy'],\n",
    "\n",
    "    'oob_score': [True],\n",
    "    'random_state': [0],\n",
    "}\n",
    "\n",
    "rfc_model = RandomForestClassifier()"
   ]
  },
  {
   "cell_type": "code",
   "execution_count": null,
   "metadata": {
    "collapsed": false,
    "deletable": true,
    "editable": true,
    "scrolled": true
   },
   "outputs": [],
   "source": [
    "n_iter = 1\n",
    "rfc_gs = RandomizedSearchCV(rfc_model, rfc_model_param_grid,\n",
    "                            scoring='roc_auc', cv=None, n_iter=n_iter,\n",
    "                            refit=True, n_jobs=3, verbose=2)\n",
    "\n",
    "rfc_gs.fit(X_train, y_train)"
   ]
  },
  {
   "cell_type": "markdown",
   "metadata": {
    "deletable": true,
    "editable": true
   },
   "source": [
    "---"
   ]
  },
  {
   "cell_type": "code",
   "execution_count": null,
   "metadata": {
    "collapsed": false,
    "deletable": true,
    "editable": true
   },
   "outputs": [],
   "source": [
    "best_score = rfc_gs.best_score_\n",
    "best_estimator = rfc_gs.best_estimator_\n",
    "best_params = rfc_gs.best_params_\n",
    "\n",
    "print('best_score: {}'.format(best_score))\n",
    "print('best params: {}'.format(best_params))"
   ]
  },
  {
   "cell_type": "code",
   "execution_count": null,
   "metadata": {
    "collapsed": false,
    "deletable": true,
    "editable": true
   },
   "outputs": [],
   "source": [
    "dota_ml_utils.make_submission(test_df, best_estimator,\n",
    "                              'submissions/', 'rfc', {**data_params, **best_params}, best_score)"
   ]
  },
  {
   "cell_type": "code",
   "execution_count": null,
   "metadata": {
    "collapsed": true,
    "deletable": true,
    "editable": true
   },
   "outputs": [],
   "source": []
  }
 ],
 "metadata": {
  "kernelspec": {
   "display_name": "Python 3 (tf_env)",
   "language": "python",
   "name": "python3"
  },
  "language_info": {
   "codemirror_mode": {
    "name": "ipython",
    "version": 3
   },
   "file_extension": ".py",
   "mimetype": "text/x-python",
   "name": "python",
   "nbconvert_exporter": "python",
   "pygments_lexer": "ipython3",
   "version": "3.6.0"
  }
 },
 "nbformat": 4,
 "nbformat_minor": 0
}
